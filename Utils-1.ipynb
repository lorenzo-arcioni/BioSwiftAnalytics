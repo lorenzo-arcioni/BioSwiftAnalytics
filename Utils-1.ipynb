{
 "cells": [
  {
   "cell_type": "code",
   "execution_count": 2,
   "metadata": {},
   "outputs": [],
   "source": [
    "#Importing libraries\n",
    "import pandas as pd\n",
    "\n",
    "# Insert the names (or paths) of the tsv files\n",
    "files = [\n",
    "    \"./culex_pipiens/culex-blastx-nr.tsv\",\n",
    "    \"./culex_pipiens/culex-blastx-tr.tsv\",\n",
    "    \"./culex_pipiens/culex-blastx-sp.tsv\"\n",
    "] \n",
    "\n",
    "# Set the outformat\n",
    "# e.g. \n",
    "# outfmt = \"qseqid qlen sseqid sallseqid slen qstart qend sstart send qseq full_qseq sseq full_sseq evalue bitscore score length pident nident mismatch positive gapopen gaps ppos qframe btop cigar staxids sscinames sskingdoms skingdoms sphylums stitle salltitles qcovhsp scovhsp qtitle qqual full_qqual qstrand\"\n",
    "# If there are column names in the file then set outfmt = None\n",
    "#outfmt = \"qseqid qlen sseqid sallseqid slen qstart qend sstart send qseq full_qseq sseq full_sseq evalue bitscore score length pident nident mismatch positive gapopen gaps ppos qframe btop cigar stitle salltitles qcovhsp scovhsp qtitle qqual full_qqual qstrand\"\n",
    "outfmt = None\n",
    "\n",
    "features = [\"qseqid\", \"sseqid\", \"pident\", \"slen\", \"stitle\", \"length\", \"evalue\"]\n",
    "\n",
    "for i in range(len(files)):\n",
    "\n",
    "    df = pd.read_csv(files[i], sep=\"\\t\")\n",
    "\n",
    "    df = df[features]\n",
    "\n",
    "    df['row'] = \"blastx\"\n",
    "\n",
    "    df = df.groupby(\"qseqid\").head(10)\n",
    "\n",
    "    df.to_csv(files[i][:-4] + \"-10.tsv\", index=False, sep=\"\\t\")"
   ]
  },
  {
   "cell_type": "code",
   "execution_count": 38,
   "metadata": {},
   "outputs": [
    {
     "name": "stdout",
     "output_type": "stream",
     "text": [
      "[[1, 3], [2]]\n"
     ]
    }
   ],
   "source": [
    "N = 3\n",
    "\n",
    "K = 2\n",
    "\n",
    "li = []\n",
    "\n",
    "for i in range(1, K+1):\n",
    "    li.append([p * K + i for p in range(0, (N-i)//K+1)])\n",
    "\n",
    "print(li)"
   ]
  }
 ],
 "metadata": {
  "kernelspec": {
   "display_name": "datas",
   "language": "python",
   "name": "python3"
  },
  "language_info": {
   "codemirror_mode": {
    "name": "ipython",
    "version": 3
   },
   "file_extension": ".py",
   "mimetype": "text/x-python",
   "name": "python",
   "nbconvert_exporter": "python",
   "pygments_lexer": "ipython3",
   "version": "3.10.11"
  },
  "orig_nbformat": 4
 },
 "nbformat": 4,
 "nbformat_minor": 2
}
