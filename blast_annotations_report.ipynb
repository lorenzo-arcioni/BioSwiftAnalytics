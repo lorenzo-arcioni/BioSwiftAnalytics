{
 "cells": [
  {
   "attachments": {},
   "cell_type": "markdown",
   "metadata": {},
   "source": [
    "# Generating Comprehensive Annotation Reports\n",
    "\n",
    "This Jupyter notebook is designed to generate a report file based on annotation results obtained from annotation tools such as BLAST or Diamond. To use this notebook, users must have both the annotation results in TSV format and a table containing additional information about the transcripts. By leveraging the power of Jupyter notebooks, users can interactively visualize and analyze their annotation results, generating a comprehensive report that includes detailed statistics and data visualizations. The notebook's intuitive user interface and modular design make it easy to customize the report based on specific research needs. With its ability to quickly and efficiently generate reports from annotation data, this Jupyter notebook is an invaluable tool for researchers working with transcriptomic data."
   ]
  },
  {
   "cell_type": "code",
   "execution_count": 29,
   "metadata": {},
   "outputs": [],
   "source": [
    "#Importing libraries\n",
    "import pandas as pd\n",
    "import matplotlib.pyplot as plt\n",
    "import re\n",
    "import numpy as np\n",
    "pd.set_option('display.max_columns', None)\n",
    "\n",
    "def get_transcripts_from_id(transcripts, table):\n",
    "    transcripts = transcripts.unique()\n",
    "\n",
    "    dic = dict()\n",
    "\n",
    "    for t in transcripts:\n",
    "        for x in table.transcript:\n",
    "            if re.match(x, t):\n",
    "                dic[t] = x\n",
    "    return dic\n",
    "\n",
    "def make_hyperlink(sseqid, database):\n",
    "    \n",
    "    if database.lower() == 'nr':\n",
    "        protein_accession = sseqid.split(\" \")[0]\n",
    "        url = \"https://www.ncbi.nlm.nih.gov/gene/?term={}\"\n",
    "    else:\n",
    "        protein_accession = sseqid.split(\"|\")[1]\n",
    "        url = \"https://www.uniprot.org/uniprotkb/{}/entry\"\n",
    "        \n",
    "    return '=HYPERLINK(\"%s\", \"%s\")' % (url.format(protein_accession), protein_accession)\n",
    "def prova(sseqid, database):\n",
    "    print(database)"
   ]
  },
  {
   "attachments": {},
   "cell_type": "markdown",
   "metadata": {},
   "source": [
    "In this section, the user must customize the generation parameters (by appropriately modifying the variables) following the instructions in the comments in the cell below."
   ]
  },
  {
   "cell_type": "code",
   "execution_count": 6,
   "metadata": {},
   "outputs": [],
   "source": [
    "# Insert the names (or paths) of the tsv files\n",
    "files = [\n",
    "    \"./bombina/bombina_corset_DEGS__unk_not-unk.fasta.transdecoder.cds_nr.tsv\",\n",
    "    \"./bombina/bombina_corset_DEGS__unk_not-unk.fasta.transdecoder.cds_tr.tsv\",\n",
    "    \"./bombina/bombina_corset_DEGS__unk_not-unk.fasta.transdecoder.cds_sp.tsv\"\n",
    "] \n",
    "\n",
    "# Insert the titles of the graph\n",
    "title = \"bombina_pachypus_blastx\"\n",
    "\n",
    "# Insert the databases names (the order must match the result files order)\n",
    "databases_names =[\n",
    "    \"Nr\", \n",
    "    \"TrEMBL\",\n",
    "    \"Swiss-Prot\",\n",
    "]\n",
    "\n",
    "# Insert the table (with additional informations) path\n",
    "table_path = \"./bombina/bombina_unref_vs_not_unkref_table_padj_0.05----log2fc_1.tsv\"\n",
    "\n",
    "# Insert the path of the report\n",
    "path = \"./bombina/\" + title\n",
    "\n",
    "# Set the outformat\n",
    "# e.g. \n",
    "# outfmt = \"qseqid qlen sseqid sallseqid slen qstart qend sstart send qseq full_qseq sseq full_sseq evalue bitscore score length pident nident mismatch positive gapopen gaps ppos qframe btop cigar staxids sscinames sskingdoms skingdoms sphylums stitle salltitles qcovhsp scovhsp qtitle qqual full_qqual qstrand\"\n",
    "# If there are column names in the file then set outfmt = None\n",
    "outfmt = \"qseqid qlen sseqid sallseqid slen qstart qend sstart send qseq full_qseq sseq full_sseq evalue bitscore score length pident nident mismatch positive gapopen gaps ppos qframe btop cigar staxids sscinames sskingdoms skingdoms sphylums stitle salltitles qcovhsp scovhsp qtitle qqual full_qqual qstrand\"\n",
    "\n",
    "# Columns names (modify this list by inserting the column names of the report)\n",
    "features = [\"transcript\", \"row\", \"log2FoldChange\", \"padj\", \n",
    "            \"protein_accession\", \"sequence_identity\", \"alignment_length\", \n",
    "            \"evalue\", \"database\", \"gene\", \"locus_name\", \"sequence_description\",\n",
    "            \"sequence_length\", \"organism\", \"protein_product\"]\n"
   ]
  },
  {
   "cell_type": "code",
   "execution_count": 30,
   "metadata": {},
   "outputs": [],
   "source": [
    "df = pd.DataFrame()\n",
    "table = pd.read_csv(table_path, sep='\\t')\n",
    "for i in range(len(files)):\n",
    "\n",
    "    #Import the dataset\n",
    "    df_tmp = pd.read_csv(files[i], sep=\"\\t\", names=outfmt.split())\n",
    "\n",
    "    df_tmp['transcript'] = df_tmp['qseqid'].map(get_transcripts_from_id(df_tmp['qseqid'], table))\n",
    "    df_tmp['database'] = databases_names[i]\n",
    "    df_tmp['row'] = title\n",
    "    df_tmp['sequence_identity'] = df_tmp.pident\n",
    "    df_tmp['alignment_length'] = df_tmp.length\n",
    "    df_tmp['evalue'] = df_tmp.evalue\n",
    "    df_tmp['sequence_description'] = df_tmp.stitle\n",
    "    df_tmp['sequence_length'] = df_tmp.slen\n",
    "\n",
    "    if \"OS=\" not in df_tmp.stitle[0]:    \n",
    "        def get_sciname(x):\n",
    "            \n",
    "            os_index = - x[::-1].index('[')\n",
    "\n",
    "            return x[os_index:-1]\n",
    "\n",
    "        # Useful functions\n",
    "        def get_protein_function(x):\n",
    "\n",
    "            x_l = x.split(\" \")\n",
    "\n",
    "            return ' '.join(x_l[1:x_l.index(next(x for x in x_l if x.startswith('[')))])\n",
    "        \n",
    "        def get_locus_name(x):\n",
    "            return None\n",
    "        \n",
    "        def get_gene(x):\n",
    "            return None\n",
    "    else:\n",
    "        def get_sciname(x):\n",
    "\n",
    "            os_index = x.index('OS=')\n",
    "            ox_index = x.index('OX=')\n",
    "\n",
    "            return x[os_index+3:ox_index-1]\n",
    "\n",
    "        # Useful functions\n",
    "        def get_protein_function(x):\n",
    "\n",
    "            x_l = x.split(\" \")\n",
    "\n",
    "            return ' '.join(x_l[1:x_l.index(next(x for x in x_l if x.startswith('OS=')))])\n",
    "        \n",
    "        def get_locus_name(x):\n",
    "            return x.split(\"|\")[2]\n",
    "        \n",
    "        def get_gene(x):\n",
    "\n",
    "            try:\n",
    "                gn_index = x.index('GN=')\n",
    "                pe_index = x.index('PE=')\n",
    "            except:\n",
    "                return None\n",
    "            return x[gn_index+3:pe_index-1]\n",
    "        \n",
    "    df_tmp['gene'] = df_tmp.stitle.apply(lambda x: get_gene(x))\n",
    "    df_tmp['organism'] = df_tmp.stitle.apply(lambda x: get_sciname(x))\n",
    "    df_tmp['protein_accession'] = df_tmp.apply(lambda x: make_hyperlink(x.sseqid, x.database), axis=1)\n",
    "    df_tmp['protein_product'] = df_tmp.stitle.apply(lambda x: get_protein_function(x))\n",
    "    df_tmp['locus_name'] = df_tmp.sseqid.apply(lambda x: get_locus_name(x))\n",
    "\n",
    "    df_tmp = pd.merge(df_tmp, table, on='transcript')\n",
    "\n",
    "    df = pd.concat([df, df_tmp[features]])\n",
    "\n",
    "df.sort_values(['transcript', 'evalue'], inplace=True)\n",
    "\n",
    "df.reset_index(drop=True, inplace=True)"
   ]
  },
  {
   "attachments": {},
   "cell_type": "markdown",
   "metadata": {},
   "source": [
    "If you want to remove repetitive information (e.g. trasncript name ecc..) run the cell below (you can also modify given list)."
   ]
  },
  {
   "cell_type": "code",
   "execution_count": 31,
   "metadata": {},
   "outputs": [],
   "source": [
    "df.loc[df.duplicated(subset=['transcript', 'row', 'log2FoldChange', 'padj']), 'transcript':'padj'] = ''"
   ]
  },
  {
   "attachments": {},
   "cell_type": "markdown",
   "metadata": {},
   "source": [
    "Run the cell below to save the report."
   ]
  },
  {
   "cell_type": "code",
   "execution_count": 32,
   "metadata": {},
   "outputs": [],
   "source": [
    "df.to_excel(path + '.xlsx', index=False)"
   ]
  }
 ],
 "metadata": {
  "kernelspec": {
   "display_name": "datas",
   "language": "python",
   "name": "python3"
  },
  "language_info": {
   "codemirror_mode": {
    "name": "ipython",
    "version": 3
   },
   "file_extension": ".py",
   "mimetype": "text/x-python",
   "name": "python",
   "nbconvert_exporter": "python",
   "pygments_lexer": "ipython3",
   "version": "3.10.10"
  },
  "orig_nbformat": 4
 },
 "nbformat": 4,
 "nbformat_minor": 2
}
