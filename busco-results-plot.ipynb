{
 "cells": [
  {
   "cell_type": "markdown",
   "metadata": {},
   "source": [
    "# Assembly Completeness Analysis for Aedes Genome Assembly\n",
    "\n",
    "This Jupyter Notebook is dedicated to the analysis of assembly completeness of genomes of organisms. The main objective is to visualize and compare the assembly completeness in different datasets using a bar chart.\n",
    "\n",
    "## Libraries Used\n",
    "The notebook uses the following Python libraries for data analysis and visualization:\n",
    "- Pandas for tabular data manipulation.\n",
    "- Matplotlib and Seaborn for creating charts.\n",
    "- NumPy for mathematical operations.\n",
    "- Os for file and directory management.\n",
    "- Json for loading JSON files.\n",
    "\n",
    "## Initial Configurations\n",
    "Before proceeding with the analysis, some initial configurations have been made, including setting the format for inline chart display and specifying the filename for saving the chart.\n",
    "\n",
    "- Chart filename: filename\n",
    "- Organism under examination: organism\n",
    "- Destination folder path for charts: path\n",
    "\n",
    "## Data Loading\n",
    "The data required for analysis is contained in JSON files, and these data are loaded and analyzed in the notebook. The paths to JSON files were obtained by iterating through directories within the specified path.\n"
   ]
  },
  {
   "cell_type": "markdown",
   "metadata": {},
   "source": [
    "## Bar Chart Creation\n",
    "The bar chart is created to visualize the assembly completeness in different datasets. Three different colors have been used to represent three completeness categories: \"Complete,\" \"Fragmented,\" and \"Missing.\"\n",
    "\n",
    "The chart features include:\n",
    "- Y-axis labels for dataset names.\n",
    "- X-axis representing the percentage of completeness.\n",
    "- Colored bars representing completeness in different categories.\n",
    "- Legend identifying the categories.\n",
    "- Chart title including the name of the organism under examination.\n",
    "\n",
    "## Customization and Saving\n",
    "The chart is customized for better readability and appearance. Borders of the chart and y-axis ticks have been removed for better presentation. Finally, the chart is saved as a PNG file in the specified folder.\n",
    "\n",
    "This notebook provides a detailed overview of the assembly completeness analysis for organisms' genomes and allows for the generation of an informative chart for data visualization."
   ]
  },
  {
   "cell_type": "code",
   "execution_count": 3,
   "metadata": {
    "vscode": {
     "languageId": "r"
    }
   },
   "outputs": [
    {
     "ename": "ERROR",
     "evalue": "Error in `$<-.data.frame`(`*tmp*`, \"y\", value = NA): replacement has 1 row, data has 0\n",
     "output_type": "error",
     "traceback": [
      "Error in `$<-.data.frame`(`*tmp*`, \"y\", value = NA): replacement has 1 row, data has 0\nTraceback:\n",
      "1. ideogram(karyotype = karyotype, label = busco_mappings, label_type = \"marker\", \n .     output = paste0(out_name, \".svg\"))",
      "2. `$<-`(`*tmp*`, \"y\", value = NA)",
      "3. `$<-.data.frame`(`*tmp*`, \"y\", value = NA)",
      "4. stop(sprintf(ngettext(N, \"replacement has %d row, data has %d\", \n .     \"replacement has %d rows, data has %d\"), N, nrows), domain = NA)"
     ]
    }
   ],
   "source": [
    "# load libraries\n",
    "require(RIdeogram)\n",
    "\n",
    "# From the Rstudio console set working directory \"plot_markers/\" folder:\n",
    "# setwd(\"/path/to/support_protocol2/plot_markers/\")\n",
    "\n",
    "\n",
    "karyotype_file <- \"./data/karyotype/Dmel_karyotype.txt\"  # provide path to karyotype file \n",
    "coordinates <- \"./data/full_table/Dmel_full_table.tsv\" # provide path to markers' coordinates\n",
    "out_name <- \"Dmel\" # sample name\n",
    "\n",
    "# load karyotype\n",
    "karyotype <- read.csv(karyotype_file, sep=\"\\t\", header = TRUE, stringsAsFactors = F)\n",
    "\n",
    "# load mapping busco_coordinates.txt\n",
    "busco_mappings <- read.csv(coordinates, sep=\"\\t\", header = FALSE, stringsAsFactors = F)\n",
    "\n",
    "colnames(busco_mappings)[1] <- \"Status\"\n",
    "colnames(busco_mappings)[2] <- \"Chr\"\n",
    "colnames(busco_mappings)[3] <- \"Start\"\n",
    "colnames(busco_mappings)[4] <- \"End\"\n",
    "\n",
    "busco_mappings$Type <- \"BUSCO_marker\"\n",
    "busco_mappings$Shape <- \"circle\" \n",
    "\n",
    "# change status in color\n",
    "busco_mappings$Status <- gsub(\"Complete\", '2dacd6', busco_mappings$Status)\n",
    "busco_mappings$Status <- gsub(\"Duplicated\", '0a0e1a', busco_mappings$Status)\n",
    "busco_mappings$Status <- gsub(\"Fragmented\", 'eded13', busco_mappings$Status)\n",
    "colnames(busco_mappings)[1] <- \"color\"\n",
    "\n",
    "busco_mappings <- busco_mappings[, c(5,6,2,3,4,1)]\n",
    "\n",
    "ideogram(karyotype = karyotype, label = busco_mappings, label_type = \"marker\", output = paste0(out_name, \".svg\"))\n",
    "# convert to png\n",
    "convertSVG(paste0(out_name, \".svg\"), device = \"png\")\n",
    "\n"
   ]
  },
  {
   "cell_type": "code",
   "execution_count": null,
   "metadata": {
    "vscode": {
     "languageId": "r"
    }
   },
   "outputs": [],
   "source": []
  }
 ],
 "metadata": {
  "kernelspec": {
   "display_name": "R",
   "language": "R",
   "name": "ir"
  },
  "language_info": {
   "codemirror_mode": "r",
   "file_extension": ".r",
   "mimetype": "text/x-r-source",
   "name": "R",
   "pygments_lexer": "r",
   "version": "4.3.1"
  },
  "orig_nbformat": 4
 },
 "nbformat": 4,
 "nbformat_minor": 2
}
