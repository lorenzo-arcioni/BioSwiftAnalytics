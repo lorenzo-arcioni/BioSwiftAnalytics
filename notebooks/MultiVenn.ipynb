{
 "cells": [
  {
   "attachments": {},
   "cell_type": "markdown",
   "id": "a21fc572",
   "metadata": {},
   "source": [
    "<a href=\"https://colab.research.google.com/github/lorenzo-arcioni/BioSwiftAnalytics/blob/main/notebooks/MultiVenn.ipynb\" target=\"_parent\"><img src=\"https://colab.research.google.com/assets/colab-badge.svg\" alt=\"Open In Colab\"/></a>\n",
    "\n",
    "# Multi Venn Overlap Explorer: A Jupyter Notebook for Comparing Annotation Results Across Databases Using Venn Diagrams\n",
    "\n",
    "Venn diagrams are a powerful visualization tool used in many areas of research, including bioinformatics. They are typically used to show the overlap between different sets or categories of data. In the context of omics data analysis, Venn diagrams can help identify common or unique hits across multiple databases or analyses, providing insights into the relationships between different datasets. In addition to the traditional Venn diagram, there are also variations such as Euler diagrams and Edwards-Venn diagrams, which can provide different types of visual representations of the data.\n",
    "\n",
    "This notebook is able to interpret tab-separated value (TSV) files resulting from annotation software (BLAST/Diamond) and allows the generation of a Venn diagram that visualize the distribution of hits across different databases. This allows biologists or bioinformaticians to verify the common hits among databases and how the matches are distributed.\n",
    "\n",
    "It is necessary to have the information regarding the ID of each sequence present in the tabular file (**qseqid**)."
   ]
  },
  {
   "cell_type": "code",
   "execution_count": 1,
   "id": "19c4844f",
   "metadata": {},
   "outputs": [],
   "source": [
    "#Importing libraries\n",
    "import pandas as pd\n",
    "import matplotlib.pyplot as plt\n",
    "from matplotlib_venn import venn3_unweighted \n",
    "from matplotlib_venn import venn2_unweighted"
   ]
  },
  {
   "attachments": {},
   "cell_type": "markdown",
   "id": "79cdb01a",
   "metadata": {},
   "source": [
    "In this section, it is possible to insert, by modifying the variables, information about the results.\n",
    "\n",
    "So before you run this cell, follow the instructions in the comments."
   ]
  },
  {
   "cell_type": "code",
   "execution_count": 2,
   "id": "1715cd6e",
   "metadata": {},
   "outputs": [],
   "source": [
    "# Insert the names (or paths) of the tsv files (remember to follow the order of the database names)\n",
    "files = [\n",
    "    \"../data/\" + \"culex_pipiens-longest_orf-blastp-nr.tsv\",\n",
    "    \"../data/\" + \"culex_pipiens-longest_orf-blastp-tr.tsv\",\n",
    "    \"../data/\" + \"culex_pipiens-longest_orf-blastp-sp.tsv\"   \n",
    "]\n",
    "\n",
    "# Insert the titles of the graph\n",
    "title = \"Culex pipiens blastp\"\n",
    "\n",
    "# Insert the databases names (remember to follow the order of the files)\n",
    "database_names =[\n",
    "    \"Nr\", \n",
    "    \"TrEMBL\",\n",
    "    \"Swiss-Prot\",\n",
    "]\n",
    "\n",
    "# Insert the path of the graphs\n",
    "path = \"../results/\" + title.lower().replace(\" \", \"_\")\n",
    "\n",
    "#Creating a dictonary list where each dict contains all sequences hits count\n",
    "sets_list = []\n",
    "\n",
    "# Set the outformat\n",
    "# e.g. \n",
    "# outfmt = \"qseqid qlen sseqid sallseqid slen qstart qend sstart send qseq full_qseq sseq full_sseq evalue bitscore score length pident nident mismatch positive gapopen gaps ppos qframe btop cigar staxids sscinames sskingdoms skingdoms sphylums stitle salltitles qcovhsp scovhsp qtitle qqual full_qqual qstrand\"\n",
    "# If there are column names in the file then set outfmt = None\n",
    "outfmt = \"qseqid qlen sseqid slen evalue bitscore score length pident stitle\"\n",
    "\n",
    "# Save the venn diagram also as a tsv file\n",
    "save_data = False\n",
    "\n",
    "# Set the index of the target feature (must be not None)\n",
    "index = 'qseqid'\n",
    "\n",
    "# Create the venn diagram list \n",
    "for f in files:\n",
    "\n",
    "    #Import the dataset\n",
    "    if outfmt != None:\n",
    "        df = pd.read_csv(f, sep=\"\\t\", names=outfmt.split())\n",
    "    else:\n",
    "        df = pd.read_csv(f, sep=\"\\t\")\n",
    "    \n",
    "    #Drop Nan rows\n",
    "    df.dropna(subset=[index], inplace=True)\n",
    "\n",
    "    # Get just the first hit of each sequence\n",
    "    df = df.groupby('qseqid').first().reset_index()\n",
    "    \n",
    "    #Create and append the dict\n",
    "    sets_list.append(set(df[index]) - {index})\n",
    "\n",
    "    del df\n",
    "\n",
    "# Create the dataframe\n",
    "df = pd.DataFrame(columns=['id', 'db'])\n",
    "\n",
    "# for each set in the list\n",
    "for s in range(len(sets_list)):\n",
    "\n",
    "    # Create the temporary dataframe\n",
    "    tmp = pd.DataFrame({\n",
    "        'id': [x for x in sets_list[s]],\n",
    "        'db': [database_names[s] for _ in range(len(sets_list[s]))]\n",
    "    })\n",
    "\n",
    "    # Append the temporary dataframe to the main dataframe\n",
    "    df = pd.concat([df, tmp], axis=0)\n"
   ]
  },
  {
   "attachments": {},
   "cell_type": "markdown",
   "id": "1e086a21",
   "metadata": {},
   "source": [
    "And now plot!"
   ]
  },
  {
   "cell_type": "code",
   "execution_count": 3,
   "id": "d4b18c09",
   "metadata": {},
   "outputs": [
    {
     "data": {
      "image/png": "[encoded data removed]",
      "text/plain": [
       "<Figure size 640x480 with 1 Axes>"
      ]
     },
     "metadata": {},
     "output_type": "display_data"
    }
   ],
   "source": [
    "# Create the venn diagram\n",
    "if len(files) == 2:\n",
    "    venn2_unweighted(sets_list, database_names)\n",
    "elif len(files) == 3:\n",
    "    venn3_unweighted(sets_list, database_names)\n",
    "else:\n",
    "    print(\"This notebook only supports 2 or 3 dimensional venn diagram\")\n",
    "\n",
    "plt.title(title)\n",
    "\n",
    "#Saving the venn diagram\n",
    "if save_data:\n",
    "    df.to_csv(path + '_venn_results.tsv', sep='\\t')\n",
    "plt.savefig(path + '_venn_results.png', bbox_inches = 'tight', dpi=350)\n",
    "plt.show()"
   ]
  },
  {
   "cell_type": "code",
   "execution_count": null,
   "id": "a1d72cca",
   "metadata": {},
   "outputs": [],
   "source": []
  }
 ],
 "metadata": {
  "kernelspec": {
   "display_name": "Python 3 (ipykernel)",
   "language": "python",
   "name": "python3"
  },
  "language_info": {
   "codemirror_mode": {
    "name": "ipython",
    "version": 3
   },
   "file_extension": ".py",
   "mimetype": "text/x-python",
   "name": "python",
   "nbconvert_exporter": "python",
   "pygments_lexer": "ipython3",
   "version": "3.10.11"
  },
  "vscode": {
   "interpreter": {
    "hash": "9be4317db5ac2a404dcdb4d46b671965ddd75cf519d843640e5a04935f656e43"
   }
  }
 },
 "nbformat": 4,
 "nbformat_minor": 5
}
