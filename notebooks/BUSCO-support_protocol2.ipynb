{
 "cells": [
  {
   "cell_type": "markdown",
   "metadata": {},
   "source": [
    "## Markers plot"
   ]
  },
  {
   "cell_type": "code",
   "execution_count": 58,
   "metadata": {
    "vscode": {
     "languageId": "r"
    }
   },
   "outputs": [
    {
     "ename": "ERROR",
     "evalue": "Error in read_data(svg): Argument 'svg' or 'css' must be a file path, url, or raw vector.\n",
     "output_type": "error",
     "traceback": [
      "Error in read_data(svg): Argument 'svg' or 'css' must be a file path, url, or raw vector.\nTraceback:\n",
      "1. convertSVG(\"marker.svg\", device = \"png\")",
      "2. rsvg::rsvg_svg(svg, f)",
      "3. rsvg_format(svg, file, width = width, height = height, css = css, \n .     format = 3L)",
      "4. read_data(svg)",
      "5. stop(\"Argument 'svg' or 'css' must be a file path, url, or raw vector.\")"
     ]
    }
   ],
   "source": [
    "# load libraries\n",
    "require(RIdeogram)\n",
    "\n",
    "# From the Rstudio console set working directory \"plot_markers/\" folder:\n",
    "# setwd(\"/path/to/support_protocol2/plot_markers/\")\n",
    "\n",
    "\n",
    "karyotype_file <- \"./busco_protocol-main/support_protocol2/plot_markers/data/karyotype/Dmel_karyotype.txt\"  # provide path to karyotype file \n",
    "coordinates <- \"./busco_protocol-main/support_protocol2/plot_markers/data/full_table/Dmel_full_table.tsv\" # provide path to markers' coordinates\n",
    "out_name <- \"Dmel\" # sample name\n",
    "\n",
    "# load karyotype\n",
    "karyotype <- read.csv(karyotype_file, sep=\"\\t\", header = TRUE, stringsAsFactors = F)\n",
    "\n",
    "# load mapping busco_coordinates.txt\n",
    "busco_mappings <- read.csv(coordinates, sep=\"\\t\", header = FALSE, stringsAsFactors = F)\n",
    "\n",
    "colnames(busco_mappings)[1] <- \"Status\"\n",
    "colnames(busco_mappings)[2] <- \"Chr\"\n",
    "colnames(busco_mappings)[3] <- \"Start\"\n",
    "colnames(busco_mappings)[4] <- \"End\"\n",
    "\n",
    "busco_mappings$Type <- \"BUSCO_marker\"\n",
    "busco_mappings$Shape <- \"circle\" \n",
    "\n",
    "# change status in color\n",
    "busco_mappings$Status <- gsub(\"Complete\", '2dacd6', busco_mappings$Status)\n",
    "busco_mappings$Status <- gsub(\"Duplicated\", '0a0e1a', busco_mappings$Status)\n",
    "busco_mappings$Status <- gsub(\"Fragmented\", 'eded13', busco_mappings$Status)\n",
    "colnames(busco_mappings)[1] <- \"color\"\n",
    "\n",
    "busco_mappings <- busco_mappings[, c(2,3,4,1)]\n",
    "\n",
    "ideogram(karyotype = karyotype, label = busco_mappings, label_type = \"marker\", output = \"marker.svg\")\n",
    "# convert to png\n",
    "convertSVG(\"marker.svg\", device = \"png\")"
   ]
  },
  {
   "cell_type": "code",
   "execution_count": 1,
   "metadata": {
    "vscode": {
     "languageId": "r"
    }
   },
   "outputs": [
    {
     "name": "stderr",
     "output_type": "stream",
     "text": [
      "Updating HTML index of packages in '.Library'\n",
      "\n",
      "Making 'packages.html' ...\n",
      " done\n",
      "\n"
     ]
    }
   ],
   "source": [
    "install.packages(\"RIdeogram\")"
   ]
  },
  {
   "cell_type": "code",
   "execution_count": 1,
   "metadata": {
    "vscode": {
     "languageId": "r"
    }
   },
   "outputs": [
    {
     "name": "stderr",
     "output_type": "stream",
     "text": [
      "Loading required package: RIdeogram\n",
      "\n"
     ]
    }
   ],
   "source": [
    "require(RIdeogram)\n",
    "data(human_karyotype, package=\"RIdeogram\")\n",
    "data(gene_density, package=\"RIdeogram\")\n",
    "data(Random_RNAs_500, package=\"RIdeogram\")"
   ]
  },
  {
   "cell_type": "code",
   "execution_count": 3,
   "metadata": {
    "vscode": {
     "languageId": "r"
    }
   },
   "outputs": [],
   "source": [
    "data(liriodendron_karyotype, package=\"RIdeogram\")"
   ]
  },
  {
   "cell_type": "code",
   "execution_count": 4,
   "metadata": {
    "vscode": {
     "languageId": "r"
    }
   },
   "outputs": [
    {
     "data": {
      "text/html": [
       "<table class=\"dataframe\">\n",
       "<caption>A data.frame: 6 × 3</caption>\n",
       "<thead>\n",
       "\t<tr><th></th><th scope=col>Chr</th><th scope=col>Start</th><th scope=col>End</th></tr>\n",
       "\t<tr><th></th><th scope=col>&lt;int&gt;</th><th scope=col>&lt;int&gt;</th><th scope=col>&lt;int&gt;</th></tr>\n",
       "</thead>\n",
       "<tbody>\n",
       "\t<tr><th scope=row>1</th><td>1</td><td>0</td><td>118073833</td></tr>\n",
       "\t<tr><th scope=row>2</th><td>2</td><td>0</td><td> 98364873</td></tr>\n",
       "\t<tr><th scope=row>3</th><td>3</td><td>0</td><td>207093695</td></tr>\n",
       "\t<tr><th scope=row>4</th><td>4</td><td>0</td><td> 50051714</td></tr>\n",
       "\t<tr><th scope=row>5</th><td>5</td><td>0</td><td> 45443526</td></tr>\n",
       "\t<tr><th scope=row>6</th><td>6</td><td>0</td><td> 35772468</td></tr>\n",
       "</tbody>\n",
       "</table>\n"
      ],
      "text/latex": [
       "A data.frame: 6 × 3\n",
       "\\begin{tabular}{r|lll}\n",
       "  & Chr & Start & End\\\\\n",
       "  & <int> & <int> & <int>\\\\\n",
       "\\hline\n",
       "\t1 & 1 & 0 & 118073833\\\\\n",
       "\t2 & 2 & 0 &  98364873\\\\\n",
       "\t3 & 3 & 0 & 207093695\\\\\n",
       "\t4 & 4 & 0 &  50051714\\\\\n",
       "\t5 & 5 & 0 &  45443526\\\\\n",
       "\t6 & 6 & 0 &  35772468\\\\\n",
       "\\end{tabular}\n"
      ],
      "text/markdown": [
       "\n",
       "A data.frame: 6 × 3\n",
       "\n",
       "| <!--/--> | Chr &lt;int&gt; | Start &lt;int&gt; | End &lt;int&gt; |\n",
       "|---|---|---|---|\n",
       "| 1 | 1 | 0 | 118073833 |\n",
       "| 2 | 2 | 0 |  98364873 |\n",
       "| 3 | 3 | 0 | 207093695 |\n",
       "| 4 | 4 | 0 |  50051714 |\n",
       "| 5 | 5 | 0 |  45443526 |\n",
       "| 6 | 6 | 0 |  35772468 |\n",
       "\n"
      ],
      "text/plain": [
       "  Chr Start End      \n",
       "1 1   0     118073833\n",
       "2 2   0      98364873\n",
       "3 3   0     207093695\n",
       "4 4   0      50051714\n",
       "5 5   0      45443526\n",
       "6 6   0      35772468"
      ]
     },
     "metadata": {},
     "output_type": "display_data"
    }
   ],
   "source": [
    "head(liriodendron_karyotype)"
   ]
  },
  {
   "cell_type": "code",
   "execution_count": 27,
   "metadata": {
    "vscode": {
     "languageId": "r"
    }
   },
   "outputs": [],
   "source": [
    "human_karyotype <- human_karyotype[1:10,]"
   ]
  },
  {
   "cell_type": "code",
   "execution_count": 3,
   "metadata": {
    "vscode": {
     "languageId": "r"
    }
   },
   "outputs": [
    {
     "ename": "ERROR",
     "evalue": "Error in read_data(svg): Argument 'svg' or 'css' must be a file path, url, or raw vector.\n",
     "output_type": "error",
     "traceback": [
      "Error in read_data(svg): Argument 'svg' or 'css' must be a file path, url, or raw vector.\nTraceback:\n",
      "1. convertSVG(\"chromosome.svg\", device = \"png\")",
      "2. rsvg::rsvg_svg(svg, f)",
      "3. rsvg_format(svg, file, width = width, height = height, css = css, \n .     format = 3L)",
      "4. read_data(svg)",
      "5. stop(\"Argument 'svg' or 'css' must be a file path, url, or raw vector.\")"
     ]
    }
   ],
   "source": [
    "ideogram(karyotype = human_karyotype, label = Random_RNAs_500, label_type = \"marker\")\n",
    "convertSVG(\"chromosome.svg\", device = \"png\")"
   ]
  },
  {
   "cell_type": "markdown",
   "metadata": {},
   "source": [
    "## Syntenies plot"
   ]
  },
  {
   "cell_type": "code",
   "execution_count": 1,
   "metadata": {
    "vscode": {
     "languageId": "r"
    }
   },
   "outputs": [
    {
     "name": "stderr",
     "output_type": "stream",
     "text": [
      "Loading required package: RIdeogram\n",
      "\n"
     ]
    },
    {
     "data": {
      "text/html": [
       "<table class=\"dataframe\">\n",
       "<caption>A data.frame: 0 × 7</caption>\n",
       "<thead>\n",
       "\t<tr><th scope=col>V1</th><th scope=col>V2.x</th><th scope=col>V3.x</th><th scope=col>V4.x</th><th scope=col>V2.y</th><th scope=col>V3.y</th><th scope=col>V4.y</th></tr>\n",
       "\t<tr><th scope=col>&lt;chr&gt;</th><th scope=col>&lt;chr&gt;</th><th scope=col>&lt;chr&gt;</th><th scope=col>&lt;chr&gt;</th><th scope=col>&lt;chr&gt;</th><th scope=col>&lt;chr&gt;</th><th scope=col>&lt;chr&gt;</th></tr>\n",
       "</thead>\n",
       "<tbody>\n",
       "</tbody>\n",
       "</table>\n"
      ],
      "text/latex": [
       "A data.frame: 0 × 7\n",
       "\\begin{tabular}{lllllll}\n",
       " V1 & V2.x & V3.x & V4.x & V2.y & V3.y & V4.y\\\\\n",
       " <chr> & <chr> & <chr> & <chr> & <chr> & <chr> & <chr>\\\\\n",
       "\\hline\n",
       "\\end{tabular}\n"
      ],
      "text/markdown": [
       "\n",
       "A data.frame: 0 × 7\n",
       "\n",
       "| V1 &lt;chr&gt; | V2.x &lt;chr&gt; | V3.x &lt;chr&gt; | V4.x &lt;chr&gt; | V2.y &lt;chr&gt; | V3.y &lt;chr&gt; | V4.y &lt;chr&gt; |\n",
       "|---|---|---|---|---|---|---|\n",
       "\n"
      ],
      "text/plain": [
       "     V1 V2.x V3.x V4.x V2.y V3.y V4.y"
      ]
     },
     "metadata": {},
     "output_type": "display_data"
    },
    {
     "ename": "ERROR",
     "evalue": "Error in names(x) <- value: 'names' attribute [6] must be the same length as the vector [4]\n",
     "output_type": "error",
     "traceback": [
      "Error in names(x) <- value: 'names' attribute [6] must be the same length as the vector [4]\nTraceback:\n",
      "1. `colnames<-`(`*tmp*`, value = c(\"Species_1\", \"Start_1\", \"End_1\", \n . \"Species_2\", \"Start_2\", \"End_2\"))"
     ]
    }
   ],
   "source": [
    "# load libraries\n",
    "require(RIdeogram)\n",
    "\n",
    "# From the Rstudio console set working directory \"plot_syntenies/\" folder\n",
    "# setwd(\"/{path_to/support_protocol2/plot_syntenies/\")\n",
    "\n",
    "# paths are already set for the test data\n",
    "species1 <- \"Dmel\" # assign a name to species1, e.g. \"Dmela\"\n",
    "karyotype1_file <- \"./busco_protocol-main/support_protocol2/plot_syntenies/data/karyotype/Dmel_karyotype.txt\" # karyotype of species 1\n",
    "coord1_file <- \"./busco_protocol-main/support_protocol2/plot_syntenies/data/full_table/Dmel_coordinates.tsv\"   # buscos coordinates\n",
    "\n",
    "species2 <- \"Dpseudo\" # assign a name to species2, e.g. \"Dpseudo\"\n",
    "karyotype2_file <- \"./busco_protocol-main/support_protocol2/plot_syntenies/data/karyotype/Dpseudo_karyotype.txt\" # karyotype of species 2\n",
    "coord2_file <- \"./busco_protocol-main/support_protocol2/plot_syntenies/data/full_table/Dpseudo_coordinates.tsv\" # buscos coordinates\n",
    "\n",
    "### karyotype 1 --------\n",
    "karyotype1 <- read.csv(file=karyotype1_file, sep=\"\\t\", header = TRUE, stringsAsFactors = F)\n",
    "\n",
    "### karyotype 2 --------\n",
    "karyotype2 <- read.csv(file=karyotype2_file, sep=\"\\t\", header = TRUE, stringsAsFactors = F)\n",
    "\n",
    "###merge  two kayotypes ----\n",
    "karyotype_all <- rbind(karyotype1, karyotype2, make.row.names=FALSE)\n",
    "\n",
    "karyotype_all$fill <- \"2dacd6\" # 2dacd6\n",
    "\n",
    "karyotype_all[karyotype_all$species==species1, ]$fill <- \"8AFFBB\"\n",
    "karyotype_all[karyotype_all$species==species2, ]$fill <- \"95FF7D\"\n",
    "\n",
    "karyotype_all <- karyotype_all[, c(1,2,3,7,4,5,6)]\n",
    "karyotype_all <- as.data.frame(karyotype_all, stringsAsFactors = F )\n",
    "\n",
    "### add coordinates ----\n",
    "\n",
    "coord1 <- read.csv(file=coord1_file, sep=\"\\t\", header = FALSE, stringsAsFactors = F)\n",
    "coord2 <- read.csv(file=coord2_file, sep=\"\\t\", header = FALSE, stringsAsFactors = F)\n",
    "\n",
    "coord1 <- coord1[coord1$V2==\"Complete\", ]\n",
    "coord2 <- coord2[coord2$V2==\"Complete\", ]\n",
    "\n",
    "# only keep results for selected sequences\n",
    "coord1 <- coord1[coord1$V3 %in% karyotype1$Chr,]\n",
    "coord2 <- coord2[coord2$V3 %in% karyotype2$Chr,]\n",
    "\n",
    "sinteny_coord <- merge(coord1, coord2, by=\"V1\")\n",
    "head(sinteny_coord)\n",
    "\n",
    "sinteny_coord <- sinteny_coord[, c(-1, -2, -6)]\n",
    "colnames(sinteny_coord) <- c(\"Species_1\", \"Start_1\", \"End_1\", \"Species_2\", \"Start_2\", \"End_2\")\n",
    "sinteny_coord$fill <- \"cccccc\"\n",
    "\n",
    "# convert names into integer according to position in karyotype_all\n",
    "chromosomes_species1 <- karyotype1$Chr\n",
    "chromosomes_species2 <- karyotype2$Chr\n",
    "\n",
    "for(seq in chromosomes_species1) {\n",
    "  index <- which(grepl(seq, karyotype_all$Chr))\n",
    "  sinteny_coord$Species_1 <- gsub(seq, index, sinteny_coord$Species_1)\n",
    "}\n",
    "\n",
    "for(seq in chromosomes_species2) {\n",
    "  index <- which(grepl(seq, karyotype_all$Chr))\n",
    "  index_species_2 <- index - length(chromosomes_species1)\n",
    "  sinteny_coord$Species_2 <- gsub(seq, index_species_2, sinteny_coord$Species_2)\n",
    "}\n",
    "\n",
    "# You can assign different colors to lines linking different chromosomes, \n",
    "# e.g. to color the lines as in the protocol figure, uncomment these lines:\n",
    "# sinteny_coord$fill <- \"2fbeed\"\n",
    "# sinteny_coord[sinteny_coord$Species_1==1,]$fill <- \"FF6E63\" #, \"9c7a14\"\n",
    "# sinteny_coord[sinteny_coord$Species_1==4,]$fill <- \"EEFF70\" # 96323c\"\n",
    "\n",
    "sinteny_coord <- sinteny_coord[with(sinteny_coord, order(fill)),]\n",
    "\n",
    "write.table(sinteny_coord, file = paste0(species1, \"_\", species2, \"_sinteny.txt\"), quote = FALSE, \n",
    "            row.names = FALSE, col.names = TRUE, sep = \"\\t\")\n",
    "write.table(karyotype_all, file = paste0(species1, \"_\", species2, \"_karyotype_all.txt\"), quote = FALSE, \n",
    "            row.names = FALSE, col.names = TRUE, sep = \"\\t\")\n",
    "\n",
    "sinteny_coord <- read.table(paste0(species1, \"_\", species2, \"_sinteny.txt\"), sep = \"\\t\", header = T, stringsAsFactors = F)\n",
    "\n",
    "# Plot with ideogram function\n",
    "ideogram(karyotype = karyotype_all, synteny = sinteny_coord,  output = paste0(species1, \"_\", species2, \"_sinteny.svg\"))\n",
    "convertSVG(paste0(species1, \"_\", species2, \"_sinteny.svg\"), device = \"png\")"
   ]
  },
  {
   "cell_type": "code",
   "execution_count": 5,
   "metadata": {
    "vscode": {
     "languageId": "r"
    }
   },
   "outputs": [
    {
     "data": {
      "text/html": [
       "<table class=\"dataframe\">\n",
       "<caption>A data.frame: 6 × 5</caption>\n",
       "<thead>\n",
       "\t<tr><th></th><th scope=col>Chr</th><th scope=col>Start</th><th scope=col>End</th><th scope=col>CE_start</th><th scope=col>CE_end</th></tr>\n",
       "\t<tr><th></th><th scope=col>&lt;chr&gt;</th><th scope=col>&lt;int&gt;</th><th scope=col>&lt;int&gt;</th><th scope=col>&lt;int&gt;</th><th scope=col>&lt;int&gt;</th></tr>\n",
       "</thead>\n",
       "<tbody>\n",
       "\t<tr><th scope=row>1</th><td>1</td><td>0</td><td>248956422</td><td>122026459</td><td>124932724</td></tr>\n",
       "\t<tr><th scope=row>2</th><td>2</td><td>0</td><td>242193529</td><td> 92188145</td><td> 94090557</td></tr>\n",
       "\t<tr><th scope=row>3</th><td>3</td><td>0</td><td>198295559</td><td> 90772458</td><td> 93655574</td></tr>\n",
       "\t<tr><th scope=row>4</th><td>4</td><td>0</td><td>190214555</td><td> 49712061</td><td> 51743951</td></tr>\n",
       "\t<tr><th scope=row>5</th><td>5</td><td>0</td><td>181538259</td><td> 46485900</td><td> 50059807</td></tr>\n",
       "\t<tr><th scope=row>6</th><td>6</td><td>0</td><td>170805979</td><td> 58553888</td><td> 59829934</td></tr>\n",
       "</tbody>\n",
       "</table>\n"
      ],
      "text/latex": [
       "A data.frame: 6 × 5\n",
       "\\begin{tabular}{r|lllll}\n",
       "  & Chr & Start & End & CE\\_start & CE\\_end\\\\\n",
       "  & <chr> & <int> & <int> & <int> & <int>\\\\\n",
       "\\hline\n",
       "\t1 & 1 & 0 & 248956422 & 122026459 & 124932724\\\\\n",
       "\t2 & 2 & 0 & 242193529 &  92188145 &  94090557\\\\\n",
       "\t3 & 3 & 0 & 198295559 &  90772458 &  93655574\\\\\n",
       "\t4 & 4 & 0 & 190214555 &  49712061 &  51743951\\\\\n",
       "\t5 & 5 & 0 & 181538259 &  46485900 &  50059807\\\\\n",
       "\t6 & 6 & 0 & 170805979 &  58553888 &  59829934\\\\\n",
       "\\end{tabular}\n"
      ],
      "text/markdown": [
       "\n",
       "A data.frame: 6 × 5\n",
       "\n",
       "| <!--/--> | Chr &lt;chr&gt; | Start &lt;int&gt; | End &lt;int&gt; | CE_start &lt;int&gt; | CE_end &lt;int&gt; |\n",
       "|---|---|---|---|---|---|\n",
       "| 1 | 1 | 0 | 248956422 | 122026459 | 124932724 |\n",
       "| 2 | 2 | 0 | 242193529 |  92188145 |  94090557 |\n",
       "| 3 | 3 | 0 | 198295559 |  90772458 |  93655574 |\n",
       "| 4 | 4 | 0 | 190214555 |  49712061 |  51743951 |\n",
       "| 5 | 5 | 0 | 181538259 |  46485900 |  50059807 |\n",
       "| 6 | 6 | 0 | 170805979 |  58553888 |  59829934 |\n",
       "\n"
      ],
      "text/plain": [
       "  Chr Start End       CE_start  CE_end   \n",
       "1 1   0     248956422 122026459 124932724\n",
       "2 2   0     242193529  92188145  94090557\n",
       "3 3   0     198295559  90772458  93655574\n",
       "4 4   0     190214555  49712061  51743951\n",
       "5 5   0     181538259  46485900  50059807\n",
       "6 6   0     170805979  58553888  59829934"
      ]
     },
     "metadata": {},
     "output_type": "display_data"
    }
   ],
   "source": [
    "require(RIdeogram)\n",
    "data(human_karyotype, package=\"RIdeogram\")\n",
    "\n",
    "head(human_karyotype)"
   ]
  },
  {
   "cell_type": "code",
   "execution_count": 16,
   "metadata": {
    "vscode": {
     "languageId": "r"
    }
   },
   "outputs": [],
   "source": [
    "data(human_karyotype, package=\"RIdeogram\")\n",
    "data(gene_density, package=\"RIdeogram\")\n",
    "data(Random_RNAs_500, package=\"RIdeogram\")"
   ]
  },
  {
   "cell_type": "code",
   "execution_count": 59,
   "metadata": {
    "vscode": {
     "languageId": "r"
    }
   },
   "outputs": [],
   "source": [
    "data(karyotype_dual_comparison, package=\"RIdeogram\")\n",
    "#table(karyotype_dual_comparison$species)\n",
    "data(synteny_dual_comparison, package=\"RIdeogram\")"
   ]
  },
  {
   "cell_type": "code",
   "execution_count": 60,
   "metadata": {
    "vscode": {
     "languageId": "r"
    }
   },
   "outputs": [],
   "source": [
    "ideogram(karyotype = karyotype_dual_comparison, synteny = synteny_dual_comparison)\n",
    "#convertSVG(\"chromosome.svg\", device = \"png\")"
   ]
  },
  {
   "cell_type": "code",
   "execution_count": 33,
   "metadata": {
    "vscode": {
     "languageId": "r"
    }
   },
   "outputs": [],
   "source": [
    "karyotype_dual_comparison <- karyotype_dual_comparison\n",
    "synteny_dual_comparison <- synteny_dual_comparison[1:15,]"
   ]
  },
  {
   "cell_type": "code",
   "execution_count": 29,
   "metadata": {
    "vscode": {
     "languageId": "r"
    }
   },
   "outputs": [],
   "source": [
    "write.csv(karyotype_dual_comparison, \"karyotype_dual_comparison.csv\", row.names=FALSE)\n",
    "write.csv(synteny_dual_comparison, \"synteny_dual_comparison.csv\", row.names=FALSE)"
   ]
  },
  {
   "cell_type": "code",
   "execution_count": null,
   "metadata": {
    "vscode": {
     "languageId": "r"
    }
   },
   "outputs": [],
   "source": []
  }
 ],
 "metadata": {
  "kernelspec": {
   "display_name": "R",
   "language": "R",
   "name": "ir"
  },
  "language_info": {
   "codemirror_mode": "r",
   "file_extension": ".r",
   "mimetype": "text/x-r-source",
   "name": "R",
   "pygments_lexer": "r",
   "version": "4.3.1"
  }
 },
 "nbformat": 4,
 "nbformat_minor": 2
}
