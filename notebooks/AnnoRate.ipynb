{
 "cells": [
  {
   "attachments": {},
   "cell_type": "markdown",
   "metadata": {},
   "source": [
    "## Annotation Rate: Hit Rate Comparison\n",
    "\n",
    "The table that reports the hit rates of protein sequences on various protein databases is an important tool because it provides an indication of the coverage of protein sequences in different protein databases. This allows evaluating the effectiveness and exhaustion of the input transcriptome and choosing the most appropriate database for a specific analysis. Additionally, this table can also provide an indication of the specificity of protein sequences based on their ability to match specific protein databases.\n",
    "\n",
    "This notebook is capable of generating a table with hit percentages of every sequence from two input fasta files (cds and pep) on the three major protein databases. It uses the annotation outputs obtained from both blastp and blastx searches to provide a comprehensive analysis of the hits for each database. This allows the user to evaluate the effectiveness and exhaustiveness of the alignment process.\n",
    "\n",
    "*Remember:* All of these code cells **must** be executed in a sequential order."
   ]
  },
  {
   "attachments": {},
   "cell_type": "markdown",
   "metadata": {},
   "source": [
    "Run this cell to load the required libraries and define the functions."
   ]
  },
  {
   "cell_type": "code",
   "execution_count": 1,
   "metadata": {},
   "outputs": [],
   "source": [
    "# Importing libraries\n",
    "import pandas as pd\n",
    "import matplotlib.pyplot as plt\n",
    "\n",
    "%matplotlib inline\n",
    "\n",
    "# Useful function for displaying more data\n",
    "def display_all(df):\n",
    "    with pd.option_context(\"display.max_columns\", 1000):\n",
    "        display(df)\n",
    "\n",
    "# Useful function to get the ID of the sequences\n",
    "def get_ids_from_fasta(name):\n",
    "\n",
    "    # Create an empty set\n",
    "    id_set = set()\n",
    "\n",
    "    # Open the fasta file\n",
    "    with open(name, 'r') as f:\n",
    "\n",
    "        # Read the file line by line\n",
    "        for line in f.readlines():\n",
    "\n",
    "            # If the line starts with '>' it is an ID\n",
    "            if line.startswith('>'):\n",
    "\n",
    "                # Add the ID (without the '>') to the set\n",
    "                id_set.add(line.split(' ')[0][1:])\n",
    "\n",
    "    # Return the set\n",
    "    return list(id_set)"
   ]
  },
  {
   "attachments": {},
   "cell_type": "markdown",
   "metadata": {},
   "source": [
    "Now follows the instructions in the comments and fill properly the required fields."
   ]
  },
  {
   "cell_type": "code",
   "execution_count": null,
   "metadata": {},
   "outputs": [],
   "source": [
    "# Insert the outformat of the output file (only if the outformat is not in the alignment software's output file).\n",
    "#outformat = \"qseqid qlen sseqid sallseqid slen qstart qend sstart send qseq full_qseq sseq full_sseq evalue bitscore score length pident nident mismatch positive gapopen gaps ppos qframe btop cigar staxids sscinames sskingdoms skingdoms sphylums stitle salltitles qcovhsp scovhsp qtitle qqual full_qqual qstrand\"\n",
    "\n",
    "# Insert the title of the table\n",
    "title = \"Culex pipiens - Hits Table\"\n",
    "\n",
    "# Insert the path to the output file\n",
    "path = \"../tests/results/\" + 'culex_pipiens-longest_orf-hits_table'\n",
    "\n",
    "# Insert the databases names \n",
    "db_names = [\n",
    "    #'NR',\n",
    "    #'TrEMBL',\n",
    "    'Swiss-prot',\n",
    "]\n",
    "\n",
    "# Insert the columns names\n",
    "column_names = [\n",
    "    'Number of BLASTX results',\n",
    "    'Number of BLASTP results',\n",
    "]\n",
    "\n",
    "# Insert the names (or path) of the fasta files\n",
    "# follow the order of the column names.\n",
    "infile = [\n",
    "    '../tests/data/' + 'culex_pipiens-longest_orf.cds',\n",
    "    '../tests/data/' + 'culex_pipiens-longest_orf.pep',\n",
    "]\n",
    "\n",
    "# Insert the names (or path) of the tsv files (must be ordered by table's columns)\n",
    "# Also here follow the order of the column names. \n",
    "# (first column refers to the first column name (infile), the second column refers to the second column name (infile))\n",
    "outfiles = [\n",
    "    #['../tests/data/' + 'culex_pipiens-longest_orf-blastx-nr.tsv', '../tests/data/' + 'culex_pipiens-longest_orf-blastp-nr.tsv'],\n",
    "    #['../tests/data/' + 'culex_pipiens-longest_orf-blastx-tr.tsv', '../tests/data/' + 'culex_pipiens-longest_orf-blastp-tr.tsv'],\n",
    "    ['../tests/data/' + 'culex_pipiens-longest_orf-blastx-sp.tsv', '../tests/data/' + 'culex_pipiens-longest_orf-blastp-sp.tsv'],\n",
    "]\n",
    "\n",
    "# Insert the outformat of the output file (only if the outformat is not in the alignment software's output file as first row).\n",
    "#outformat = None\n",
    "outformat = \"qseqid qlen sseqid slen evalue bitscore score length pident stitle\"\n",
    "\n",
    "# Add first row (column names)\n",
    "table_data = [['Database'] + [x for x in column_names]]\n",
    "\n",
    "# Calculate the percentage of the sequences hits and store it in the table\n",
    "for out_file in range(len(outfiles)):\n",
    "\n",
    "    # Get the current database name\n",
    "    tmp = [db_names[out_file]]\n",
    "\n",
    "    # Calculate the hit percentage and store it in the table for each file\n",
    "    for file_idx in range(len(outfiles[out_file])):\n",
    "\n",
    "        # If the outformat is not in the alignment software's output file\n",
    "        if outformat is None:\n",
    "            \n",
    "            # Read the tsv file\n",
    "            df = pd.read_csv(outfiles[out_file][file_idx], sep=\"\\t\")\n",
    "        \n",
    "        else:\n",
    "\n",
    "            # Read the tsv file\n",
    "            df = pd.read_csv(outfiles[out_file][file_idx], sep=\"\\t\", names=outformat.split())\n",
    "\n",
    "        # Get ids of input sequences\n",
    "        infile_id_count = get_ids_from_fasta(infile[file_idx])\n",
    "\n",
    "        # Get the number of hits\n",
    "        hits  = len(df['qseqid'].unique())\n",
    "        total = len(infile_id_count)\n",
    "\n",
    "        # Calculate the percentage\n",
    "        perc = hits / total * 100\n",
    "\n",
    "        # Store the percentage in the table\n",
    "        tmp.append(str(hits) + ' (' + str(round(perc, 1)) + ' %)')\n",
    "\n",
    "    # Store the table row\n",
    "    table_data.append(tmp)"
   ]
  },
  {
   "attachments": {},
   "cell_type": "markdown",
   "metadata": {},
   "source": [
    "And finally plot the table!"
   ]
  },
  {
   "cell_type": "code",
   "execution_count": 16,
   "metadata": {},
   "outputs": [
    {
     "data": {
      "image/png": "[encoded data removed]",
      "text/plain": [
       "<Figure size 1000x200 with 1 Axes>"
      ]
     },
     "metadata": {},
     "output_type": "display_data"
    }
   ],
   "source": [
    "from matplotlib.font_manager import FontProperties\n",
    "\n",
    "# Adjust the figure size\n",
    "plt.rcParams[\"figure.figsize\"] = (10,2)\n",
    "\n",
    "# Plot the table\n",
    "fig, ax = plt.subplots()\n",
    "\n",
    "table = ax.table(cellText=table_data, loc='center')\n",
    "\n",
    "table.set_fontsize(34)\n",
    "table.scale(1, 2)\n",
    "table.auto_set_column_width(col=list(range(len(table_data[0]))))\n",
    "ax.set_title(title)\n",
    "\n",
    "# Set the column names as bold\n",
    "for (row, col), cell in table.get_celld().items():\n",
    "  if (row == 0) or (col == -1):\n",
    "    cell.set_text_props(fontproperties=FontProperties(weight='bold'))\n",
    "\n",
    "# Remove axes   \n",
    "ax.axis('off')\n",
    "\n",
    "# Save the table\n",
    "#pd.DataFrame(table_data[1:], columns=table_data[0]).to_csv(path + '.tsv', index=False, sep='\\t')\n",
    "\n",
    "# Save the figure\n",
    "plt.savefig(path + '.png', bbox_inches = 'tight', dpi=300)\n",
    "plt.show()"
   ]
  },
  {
   "cell_type": "code",
   "execution_count": null,
   "metadata": {},
   "outputs": [],
   "source": []
  }
 ],
 "metadata": {
  "kernelspec": {
   "display_name": "base",
   "language": "python",
   "name": "python3"
  },
  "language_info": {
   "codemirror_mode": {
    "name": "ipython",
    "version": 3
   },
   "file_extension": ".py",
   "mimetype": "text/x-python",
   "name": "python",
   "nbconvert_exporter": "python",
   "pygments_lexer": "ipython3",
   "version": "3.10.11"
  },
  "orig_nbformat": 4
 },
 "nbformat": 4,
 "nbformat_minor": 2
}
