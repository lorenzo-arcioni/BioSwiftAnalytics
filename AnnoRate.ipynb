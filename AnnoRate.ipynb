{
 "cells": [
  {
   "attachments": {},
   "cell_type": "markdown",
   "metadata": {},
   "source": [
    "## Annotation Rate: Hit Rate Comparison\n",
    "\n",
    "The table that reports the hit rates of protein sequences on various protein databases is important because it provides an indication of the coverage of protein sequences in different protein databases. This allows evaluating the effectiveness and exhaustion of protein databases and choosing the most appropriate one for a specific analysis. Additionally, this table can also provide an indication of the specificity of protein sequences based on their ability to match specific protein databases.\n",
    "\n",
    "This notebook is capable of generating a table with hit percentages of every sequence from two input fasta files on the three major protein databases. It uses the annotation outputs obtained from both blastp and blastx searches to provide a comprehensive analysis of the hits for each database. This allows the user to evaluate the effectiveness and exhaustiveness of each protein database and determine the most appropriate one for a specific analysis."
   ]
  },
  {
   "attachments": {},
   "cell_type": "markdown",
   "metadata": {},
   "source": [
    "Run this cell to load the required libraries."
   ]
  },
  {
   "cell_type": "code",
   "execution_count": 2,
   "metadata": {},
   "outputs": [],
   "source": [
    "# Importing libraries\n",
    "import pandas as pd\n",
    "import matplotlib.pyplot as plt\n",
    "\n",
    "%matplotlib inline\n",
    "\n",
    "# Useful function for displaying more data\n",
    "def display_all(df):\n",
    "    with pd.option_context(\"display.max_columns\", 1000):\n",
    "        display(df)\n",
    "\n",
    "def get_id_from_fasta(name):\n",
    "    id_set = set()\n",
    "\n",
    "    with open(name, 'r') as f:\n",
    "        for line in f.readlines():\n",
    "            if line.startswith('>'):\n",
    "                id_set.add(line.split(' ')[0][1:])\n",
    "    return list(id_set)"
   ]
  },
  {
   "attachments": {},
   "cell_type": "markdown",
   "metadata": {},
   "source": [
    "Now follows the instructions in the comments and fill properly the required fields."
   ]
  },
  {
   "cell_type": "code",
   "execution_count": 5,
   "metadata": {},
   "outputs": [],
   "source": [
    "# Insert the outformat of the output file\n",
    "#outformat = \"qseqid qlen sseqid sallseqid slen qstart qend sstart send qseq full_qseq sseq full_sseq evalue bitscore score length pident nident mismatch positive gapopen gaps ppos qframe btop cigar staxids sscinames sskingdoms skingdoms sphylums stitle salltitles qcovhsp scovhsp qtitle qqual full_qqual qstrand\"\n",
    "\n",
    "# Insert the title of the table\n",
    "title = \"Culex pipiens - Hits Table\"\n",
    "\n",
    "# Insert the path to the output file\n",
    "path = \"../results/\" + title.lower().replace(\" \", \"_\").replace(\"-\", \"\")\n",
    "\n",
    "# Insert the databases names \n",
    "db_names = [\n",
    "    'NR',\n",
    "    'TrEMBL',\n",
    "    'Swiss-prot',\n",
    "]\n",
    "\n",
    "# Insert the columns names\n",
    "column_names = [\n",
    "    'Number of BLASTX results',\n",
    "    'Number of BLASTP results',\n",
    "]\n",
    "\n",
    "# Insert the names (or path) of the fasta files\n",
    "# follow the order of the column names.\n",
    "infile = [\n",
    "    '../data/' + 'longest_orfs.cds',\n",
    "    '../data/' + 'longest_orfs.pep',\n",
    "]\n",
    "\n",
    "# Insert the names (or path) of the tsv files (must be ordered by table's columns)\n",
    "# Also here follow the order of the column names. \n",
    "# (first column refers to the first column name (infile), the second column refers to the second column name (infile))\n",
    "outfiles = [\n",
    "    ['../data/' + 'culex-blastx-nr.tsv', '../data/' + '../culex_pipiens/culex-blastp-nr.tsv'],\n",
    "    ['../data/' + 'culex-blastx-tr.tsv', '../data/' + '../culex_pipiens/culex-blastp-tr.tsv'],\n",
    "    ['../data/' + 'culex-blastx-sp.tsv', '../data/' + '../culex_pipiens/culex-blastp-sp.tsv'],\n",
    "]\n",
    "\n",
    "table_data = [['Database'] + [x for x in column_names]]\n",
    "\n",
    "# Calculate the percentage of the sequences hits and store it in the table\n",
    "for out in range(len(outfiles)):\n",
    "    tmp = [db_names[out]]\n",
    "    for file in range(len(outfiles[out])):\n",
    "        df = pd.read_csv(outfiles[out][file], sep=\"\\t\", )#names=outformat.split())\n",
    "        infile_id_count = get_id_from_fasta(infile[file])\n",
    "\n",
    "        hits  = len(df['qseqid'].unique())\n",
    "        total = len(infile_id_count)\n",
    "\n",
    "        perc = hits / total * 100\n",
    "\n",
    "        tmp.append(str(hits) + ' (' + str(round(perc, 1)) + ' %)')\n",
    "        \n",
    "        del df\n",
    "\n",
    "    table_data.append(tmp)"
   ]
  },
  {
   "attachments": {},
   "cell_type": "markdown",
   "metadata": {},
   "source": [
    "And finally plot the table!"
   ]
  },
  {
   "cell_type": "code",
   "execution_count": 8,
   "metadata": {},
   "outputs": [
    {
     "data": {
      "image/png": "[encoded data removed]",
      "text/plain": [
       "<Figure size 1000x200 with 1 Axes>"
      ]
     },
     "metadata": {},
     "output_type": "display_data"
    }
   ],
   "source": [
    "plt.rcParams[\"figure.figsize\"] = (10,2)\n",
    "fig, ax = plt.subplots()\n",
    "\n",
    "table = ax.table(cellText=table_data, loc='center')\n",
    "\n",
    "table.set_fontsize(34)\n",
    "table.scale(1, 2)\n",
    "table.auto_set_column_width(col=list(range(len(table_data[0]))))\n",
    "ax.set_title(title)\n",
    "\n",
    "from matplotlib.font_manager import FontProperties\n",
    "\n",
    "for (row, col), cell in table.get_celld().items():\n",
    "  if (row == 0) or (col == -1):\n",
    "    cell.set_text_props(fontproperties=FontProperties(weight='bold'))\n",
    "    \n",
    "ax.axis('off')\n",
    "pd.DataFrame(table_data[1:], columns=table_data[0]).to_csv(path + '.tsv', index=False, sep='\\t')\n",
    "plt.savefig(path + '.png', bbox_inches = 'tight', dpi=300)\n",
    "plt.show()"
   ]
  },
  {
   "cell_type": "code",
   "execution_count": null,
   "metadata": {},
   "outputs": [],
   "source": []
  }
 ],
 "metadata": {
  "kernelspec": {
   "display_name": "base",
   "language": "python",
   "name": "python3"
  },
  "language_info": {
   "codemirror_mode": {
    "name": "ipython",
    "version": 3
   },
   "file_extension": ".py",
   "mimetype": "text/x-python",
   "name": "python",
   "nbconvert_exporter": "python",
   "pygments_lexer": "ipython3",
   "version": "3.10.11"
  },
  "orig_nbformat": 4
 },
 "nbformat": 4,
 "nbformat_minor": 2
}
