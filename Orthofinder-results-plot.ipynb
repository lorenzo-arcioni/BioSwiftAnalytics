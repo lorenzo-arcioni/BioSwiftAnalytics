{
 "cells": [
  {
   "cell_type": "code",
   "execution_count": 13,
   "metadata": {},
   "outputs": [],
   "source": [
    "#Importing libraries\n",
    "import pandas as pd\n",
    "import matplotlib.pyplot as plt\n",
    "import numpy as np\n",
    "import venn\n",
    "import os \n",
    "\n",
    "%matplotlib inline\n",
    "\n",
    "## pyUpset package for ...\n",
    "\n",
    "orthofinder_dir_path    = '../Orthofinder-results-plot/apegreffi_corset_contracaecum_corset_asimplex_genome/OrthoFinder/Results_May21'\n",
    "orthogroups_dir_path    = orthofinder_dir_path + '/Orthogroups'\n",
    "orthologues_dir_path    = orthofinder_dir_path + '/Orthologues'\n",
    "genomics_stats_dir_path = orthofinder_dir_path + '/Comparative_Genomics_Statistics'\n",
    "\n",
    "# Getting the file names\n",
    "stats_per_species       = genomics_stats_dir_path + '/Statistics_PerSpecies.tsv'\n",
    "orthogroups_file        = orthogroups_dir_path + '/Orthogroups.tsv'\n",
    "\n",
    "# Getting the organism names\n",
    "organisms = ! head -n 1 $stats_per_species\n",
    "organisms = organisms[0].split('\\t')[1:]"
   ]
  },
  {
   "cell_type": "code",
   "execution_count": 29,
   "metadata": {},
   "outputs": [],
   "source": [
    "# Take all orthogroups of each organism\n",
    "\n",
    "df = pd.read_csv(orthogroups_file, sep='\\t')\n",
    "\n",
    "s = {}\n",
    "\n",
    "for org in organisms:\n",
    "    s[org] = set(df[df[org].notna()]['Orthogroup'])\n",
    "\n",
    "venn.venn(s)"
   ]
  }
 ],
 "metadata": {
  "kernelspec": {
   "display_name": "datas",
   "language": "python",
   "name": "python3"
  },
  "language_info": {
   "codemirror_mode": {
    "name": "ipython",
    "version": 3
   },
   "file_extension": ".py",
   "mimetype": "text/x-python",
   "name": "python",
   "nbconvert_exporter": "python",
   "pygments_lexer": "ipython3",
   "version": "3.10.11"
  },
  "orig_nbformat": 4
 },
 "nbformat": 4,
 "nbformat_minor": 2
}
